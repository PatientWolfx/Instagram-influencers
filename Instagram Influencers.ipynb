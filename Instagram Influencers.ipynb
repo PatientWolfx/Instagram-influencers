{
 "cells": [
  {
   "cell_type": "code",
   "execution_count": 1,
   "id": "69136545-9a88-4092-8096-e9bec660a7e3",
   "metadata": {},
   "outputs": [],
   "source": [
    "import pandas as pd\n",
    "import seaborn as sns\n",
    "import matplotlib.pyplot as plt\n",
    "import numpy as np"
   ]
  },
  {
   "cell_type": "code",
   "execution_count": 2,
   "id": "7a3fd693-51a9-4502-a21c-6c77fd0056df",
   "metadata": {},
   "outputs": [],
   "source": [
    "df = pd.read_csv(r\"Dataset/insta_influencers.csv\")"
   ]
  },
  {
   "cell_type": "code",
   "execution_count": 3,
   "id": "eef57110-ad49-4b12-9d93-b25155fb95d7",
   "metadata": {},
   "outputs": [
    {
     "data": {
      "text/html": [
       "<div>\n",
       "<style scoped>\n",
       "    .dataframe tbody tr th:only-of-type {\n",
       "        vertical-align: middle;\n",
       "    }\n",
       "\n",
       "    .dataframe tbody tr th {\n",
       "        vertical-align: top;\n",
       "    }\n",
       "\n",
       "    .dataframe thead th {\n",
       "        text-align: right;\n",
       "    }\n",
       "</style>\n",
       "<table border=\"1\" class=\"dataframe\">\n",
       "  <thead>\n",
       "    <tr style=\"text-align: right;\">\n",
       "      <th></th>\n",
       "      <th>Rank</th>\n",
       "      <th>Channel Info</th>\n",
       "      <th>Influence Score</th>\n",
       "      <th>Followers</th>\n",
       "      <th>Avg. Likes</th>\n",
       "      <th>Posts</th>\n",
       "      <th>60-Day Eng Rate</th>\n",
       "      <th>New Post Avg. Likes</th>\n",
       "      <th>Total Likes</th>\n",
       "      <th>Country Or Region</th>\n",
       "    </tr>\n",
       "  </thead>\n",
       "  <tbody>\n",
       "    <tr>\n",
       "      <th>0</th>\n",
       "      <td>1</td>\n",
       "      <td>\\ncristiano</td>\n",
       "      <td>92</td>\n",
       "      <td>485.2m</td>\n",
       "      <td>8.7m</td>\n",
       "      <td>3.4k</td>\n",
       "      <td>0.013</td>\n",
       "      <td>6.3m</td>\n",
       "      <td>29.1b</td>\n",
       "      <td>Spain</td>\n",
       "    </tr>\n",
       "    <tr>\n",
       "      <th>1</th>\n",
       "      <td>2</td>\n",
       "      <td>kyliejenner</td>\n",
       "      <td>91</td>\n",
       "      <td>370.7m</td>\n",
       "      <td>8.2m</td>\n",
       "      <td>7.0k</td>\n",
       "      <td>0.014</td>\n",
       "      <td>5.0m</td>\n",
       "      <td>57.4b</td>\n",
       "      <td>United States</td>\n",
       "    </tr>\n",
       "    <tr>\n",
       "      <th>2</th>\n",
       "      <td>3</td>\n",
       "      <td>\\nleomessi</td>\n",
       "      <td>90</td>\n",
       "      <td>363.9m</td>\n",
       "      <td>6.7m</td>\n",
       "      <td>915</td>\n",
       "      <td>0.010</td>\n",
       "      <td>3.5m</td>\n",
       "      <td>6.1b</td>\n",
       "      <td>NaN</td>\n",
       "    </tr>\n",
       "    <tr>\n",
       "      <th>3</th>\n",
       "      <td>4</td>\n",
       "      <td>\\nselenagomez</td>\n",
       "      <td>93</td>\n",
       "      <td>348.8m</td>\n",
       "      <td>6.1m</td>\n",
       "      <td>1.9k</td>\n",
       "      <td>0.005</td>\n",
       "      <td>1.7m</td>\n",
       "      <td>11.4b</td>\n",
       "      <td>United States</td>\n",
       "    </tr>\n",
       "    <tr>\n",
       "      <th>4</th>\n",
       "      <td>5</td>\n",
       "      <td>\\ntherock</td>\n",
       "      <td>91</td>\n",
       "      <td>339.4m</td>\n",
       "      <td>1.8m</td>\n",
       "      <td>6.8k</td>\n",
       "      <td>0.003</td>\n",
       "      <td>932.0k</td>\n",
       "      <td>12.6b</td>\n",
       "      <td>United States</td>\n",
       "    </tr>\n",
       "    <tr>\n",
       "      <th>...</th>\n",
       "      <td>...</td>\n",
       "      <td>...</td>\n",
       "      <td>...</td>\n",
       "      <td>...</td>\n",
       "      <td>...</td>\n",
       "      <td>...</td>\n",
       "      <td>...</td>\n",
       "      <td>...</td>\n",
       "      <td>...</td>\n",
       "      <td>...</td>\n",
       "    </tr>\n",
       "    <tr>\n",
       "      <th>195</th>\n",
       "      <td>196</td>\n",
       "      <td>\\nkhabib_nurmagomedov</td>\n",
       "      <td>63</td>\n",
       "      <td>33.6m</td>\n",
       "      <td>680.6k</td>\n",
       "      <td>4.6k</td>\n",
       "      <td>0.009</td>\n",
       "      <td>305.7k</td>\n",
       "      <td>3.1b</td>\n",
       "      <td>Russia</td>\n",
       "    </tr>\n",
       "    <tr>\n",
       "      <th>196</th>\n",
       "      <td>197</td>\n",
       "      <td>\\ndanbilzerian</td>\n",
       "      <td>84</td>\n",
       "      <td>33.6m</td>\n",
       "      <td>2.2m</td>\n",
       "      <td>1.4k</td>\n",
       "      <td>0.064</td>\n",
       "      <td>2.1m</td>\n",
       "      <td>3.0b</td>\n",
       "      <td>Canada</td>\n",
       "    </tr>\n",
       "    <tr>\n",
       "      <th>197</th>\n",
       "      <td>198</td>\n",
       "      <td>\\nraisa6690</td>\n",
       "      <td>80</td>\n",
       "      <td>33.6m</td>\n",
       "      <td>227.8k</td>\n",
       "      <td>4.2k</td>\n",
       "      <td>0.003</td>\n",
       "      <td>103.2k</td>\n",
       "      <td>955.9m</td>\n",
       "      <td>Indonesia</td>\n",
       "    </tr>\n",
       "    <tr>\n",
       "      <th>198</th>\n",
       "      <td>199</td>\n",
       "      <td>\\nluansantana</td>\n",
       "      <td>79</td>\n",
       "      <td>33.5m</td>\n",
       "      <td>193.3k</td>\n",
       "      <td>865</td>\n",
       "      <td>0.003</td>\n",
       "      <td>82.6k</td>\n",
       "      <td>167.2m</td>\n",
       "      <td>Brazil</td>\n",
       "    </tr>\n",
       "    <tr>\n",
       "      <th>199</th>\n",
       "      <td>200</td>\n",
       "      <td>\\nnancyajram</td>\n",
       "      <td>81</td>\n",
       "      <td>33.4m</td>\n",
       "      <td>382.5k</td>\n",
       "      <td>3.8k</td>\n",
       "      <td>0.004</td>\n",
       "      <td>128.2k</td>\n",
       "      <td>1.5b</td>\n",
       "      <td>France</td>\n",
       "    </tr>\n",
       "  </tbody>\n",
       "</table>\n",
       "<p>200 rows × 10 columns</p>\n",
       "</div>"
      ],
      "text/plain": [
       "     Rank           Channel Info  Influence Score Followers Avg. Likes Posts  \\\n",
       "0       1            \\ncristiano               92    485.2m       8.7m  3.4k   \n",
       "1       2            kyliejenner               91    370.7m       8.2m  7.0k   \n",
       "2       3             \\nleomessi               90    363.9m       6.7m   915   \n",
       "3       4          \\nselenagomez               93    348.8m       6.1m  1.9k   \n",
       "4       5              \\ntherock               91    339.4m       1.8m  6.8k   \n",
       "..    ...                    ...              ...       ...        ...   ...   \n",
       "195   196  \\nkhabib_nurmagomedov               63     33.6m     680.6k  4.6k   \n",
       "196   197         \\ndanbilzerian               84     33.6m       2.2m  1.4k   \n",
       "197   198            \\nraisa6690               80     33.6m     227.8k  4.2k   \n",
       "198   199          \\nluansantana               79     33.5m     193.3k   865   \n",
       "199   200           \\nnancyajram               81     33.4m     382.5k  3.8k   \n",
       "\n",
       "     60-Day Eng Rate New Post Avg. Likes Total Likes Country Or Region  \n",
       "0              0.013                6.3m       29.1b             Spain  \n",
       "1              0.014                5.0m       57.4b     United States  \n",
       "2              0.010                3.5m        6.1b               NaN  \n",
       "3              0.005                1.7m       11.4b     United States  \n",
       "4              0.003              932.0k       12.6b     United States  \n",
       "..               ...                 ...         ...               ...  \n",
       "195            0.009              305.7k        3.1b            Russia  \n",
       "196            0.064                2.1m        3.0b            Canada  \n",
       "197            0.003              103.2k      955.9m         Indonesia  \n",
       "198            0.003               82.6k      167.2m            Brazil  \n",
       "199            0.004              128.2k        1.5b            France  \n",
       "\n",
       "[200 rows x 10 columns]"
      ]
     },
     "execution_count": 3,
     "metadata": {},
     "output_type": "execute_result"
    }
   ],
   "source": [
    "df"
   ]
  },
  {
   "cell_type": "code",
   "execution_count": 4,
   "id": "a3fd9a61-309c-4044-ab45-a2c68f83c358",
   "metadata": {},
   "outputs": [
    {
     "name": "stdout",
     "output_type": "stream",
     "text": [
      "<class 'pandas.core.frame.DataFrame'>\n",
      "RangeIndex: 200 entries, 0 to 199\n",
      "Data columns (total 10 columns):\n",
      " #   Column               Non-Null Count  Dtype  \n",
      "---  ------               --------------  -----  \n",
      " 0   Rank                 200 non-null    int64  \n",
      " 1   Channel Info         200 non-null    object \n",
      " 2   Influence Score      200 non-null    int64  \n",
      " 3   Followers            200 non-null    object \n",
      " 4   Avg. Likes           200 non-null    object \n",
      " 5   Posts                200 non-null    object \n",
      " 6   60-Day Eng Rate      200 non-null    float64\n",
      " 7   New Post Avg. Likes  200 non-null    object \n",
      " 8   Total Likes          200 non-null    object \n",
      " 9   Country Or Region    137 non-null    object \n",
      "dtypes: float64(1), int64(2), object(7)\n",
      "memory usage: 15.8+ KB\n"
     ]
    }
   ],
   "source": [
    "df.info()"
   ]
  },
  {
   "cell_type": "code",
   "execution_count": 5,
   "id": "f2d067d9-72c1-43ab-80a4-1d258583cbe2",
   "metadata": {},
   "outputs": [
    {
     "data": {
      "text/plain": [
       "Rank                    0\n",
       "Channel Info            0\n",
       "Influence Score         0\n",
       "Followers               0\n",
       "Avg. Likes              0\n",
       "Posts                   0\n",
       "60-Day Eng Rate         0\n",
       "New Post Avg. Likes     0\n",
       "Total Likes             0\n",
       "Country Or Region      63\n",
       "dtype: int64"
      ]
     },
     "execution_count": 5,
     "metadata": {},
     "output_type": "execute_result"
    }
   ],
   "source": [
    "df.isnull().sum()"
   ]
  },
  {
   "cell_type": "code",
   "execution_count": 6,
   "id": "1b6d3d97-9c3d-430b-ac9e-c483fa5165d2",
   "metadata": {},
   "outputs": [
    {
     "data": {
      "text/plain": [
       "Country Or Region\n",
       "United States             65\n",
       "Brazil                    13\n",
       "India                     12\n",
       "Indonesia                  7\n",
       "France                     6\n",
       "Spain                      5\n",
       "United Kingdom             4\n",
       "Colombia                   3\n",
       "Canada                     3\n",
       "Mexico                     2\n",
       "Turkey                     2\n",
       "Netherlands                2\n",
       "Switzerland                1\n",
       "Germany                    1\n",
       "Czech Republic             1\n",
       "British Virgin Islands     1\n",
       "Sweden                     1\n",
       "Australia                  1\n",
       "Anguilla                   1\n",
       "CÃ´te d'Ivoire             1\n",
       "Puerto Rico                1\n",
       "United Arab Emirates       1\n",
       "Italy                      1\n",
       "Uruguay                    1\n",
       "Russia                     1\n",
       "Name: count, dtype: int64"
      ]
     },
     "execution_count": 6,
     "metadata": {},
     "output_type": "execute_result"
    }
   ],
   "source": [
    "df[\"Country Or Region\"].value_counts()"
   ]
  },
  {
   "cell_type": "code",
   "execution_count": 7,
   "id": "b5fb1598-be8a-49fc-9d44-5b8ed3b1d954",
   "metadata": {},
   "outputs": [
    {
     "data": {
      "text/plain": [
       "0    United States\n",
       "Name: Country Or Region, dtype: object"
      ]
     },
     "execution_count": 7,
     "metadata": {},
     "output_type": "execute_result"
    }
   ],
   "source": [
    "df[\"Country Or Region\"].mode()"
   ]
  },
  {
   "cell_type": "code",
   "execution_count": 8,
   "id": "57142391-323c-432d-9614-1ad51fd60f46",
   "metadata": {},
   "outputs": [
    {
     "data": {
      "text/plain": [
       "array(['Spain', 'United States', 'Canada', 'Brazil', 'Netherlands',\n",
       "       'United Kingdom', 'India', 'Uruguay', 'Turkey', 'Indonesia',\n",
       "       'Colombia', 'France', 'Australia', 'Italy', 'United Arab Emirates',\n",
       "       'Puerto Rico', \"CÃ´te d'Ivoire\", 'Anguilla', 'Switzerland',\n",
       "       'Sweden', 'British Virgin Islands', 'Czech Republic', 'Mexico',\n",
       "       'Germany', 'Russia'], dtype=object)"
      ]
     },
     "execution_count": 8,
     "metadata": {},
     "output_type": "execute_result"
    }
   ],
   "source": [
    "df[\"Country Or Region\"] = df[\"Country Or Region\"].fillna(\"United States\")\n",
    "df[\"Country Or Region\"].unique()"
   ]
  },
  {
   "cell_type": "code",
   "execution_count": 9,
   "id": "c41f2bed-ec72-4826-a9e1-af7b9372e3b6",
   "metadata": {},
   "outputs": [
    {
     "data": {
      "text/plain": [
       "Country Or Region\n",
       "United States             128\n",
       "Brazil                     13\n",
       "India                      12\n",
       "Indonesia                   7\n",
       "France                      6\n",
       "Spain                       5\n",
       "United Kingdom              4\n",
       "Colombia                    3\n",
       "Canada                      3\n",
       "Mexico                      2\n",
       "Turkey                      2\n",
       "Netherlands                 2\n",
       "Switzerland                 1\n",
       "Germany                     1\n",
       "Czech Republic              1\n",
       "British Virgin Islands      1\n",
       "Sweden                      1\n",
       "Australia                   1\n",
       "Anguilla                    1\n",
       "CÃ´te d'Ivoire              1\n",
       "Puerto Rico                 1\n",
       "United Arab Emirates        1\n",
       "Italy                       1\n",
       "Uruguay                     1\n",
       "Russia                      1\n",
       "Name: count, dtype: int64"
      ]
     },
     "execution_count": 9,
     "metadata": {},
     "output_type": "execute_result"
    }
   ],
   "source": [
    "df[\"Country Or Region\"].value_counts()"
   ]
  },
  {
   "cell_type": "code",
   "execution_count": 10,
   "id": "6349f94c-dc4b-4f7b-965c-9fc1e40f5587",
   "metadata": {},
   "outputs": [
    {
     "data": {
      "text/html": [
       "<div>\n",
       "<style scoped>\n",
       "    .dataframe tbody tr th:only-of-type {\n",
       "        vertical-align: middle;\n",
       "    }\n",
       "\n",
       "    .dataframe tbody tr th {\n",
       "        vertical-align: top;\n",
       "    }\n",
       "\n",
       "    .dataframe thead th {\n",
       "        text-align: right;\n",
       "    }\n",
       "</style>\n",
       "<table border=\"1\" class=\"dataframe\">\n",
       "  <thead>\n",
       "    <tr style=\"text-align: right;\">\n",
       "      <th></th>\n",
       "      <th>Rank</th>\n",
       "      <th>Channel Info</th>\n",
       "      <th>Influence Score</th>\n",
       "      <th>Followers</th>\n",
       "      <th>Avg. Likes</th>\n",
       "      <th>Posts</th>\n",
       "      <th>60-Day Eng Rate</th>\n",
       "      <th>New Post Avg. Likes</th>\n",
       "      <th>Total Likes</th>\n",
       "      <th>Country Or Region</th>\n",
       "    </tr>\n",
       "  </thead>\n",
       "  <tbody>\n",
       "    <tr>\n",
       "      <th>0</th>\n",
       "      <td>1</td>\n",
       "      <td>\\ncristiano</td>\n",
       "      <td>92</td>\n",
       "      <td>485.2m</td>\n",
       "      <td>8.7m</td>\n",
       "      <td>3.4k</td>\n",
       "      <td>0.013</td>\n",
       "      <td>6.3m</td>\n",
       "      <td>29.1b</td>\n",
       "      <td>Spain</td>\n",
       "    </tr>\n",
       "    <tr>\n",
       "      <th>1</th>\n",
       "      <td>2</td>\n",
       "      <td>kyliejenner</td>\n",
       "      <td>91</td>\n",
       "      <td>370.7m</td>\n",
       "      <td>8.2m</td>\n",
       "      <td>7.0k</td>\n",
       "      <td>0.014</td>\n",
       "      <td>5.0m</td>\n",
       "      <td>57.4b</td>\n",
       "      <td>United States</td>\n",
       "    </tr>\n",
       "    <tr>\n",
       "      <th>2</th>\n",
       "      <td>3</td>\n",
       "      <td>\\nleomessi</td>\n",
       "      <td>90</td>\n",
       "      <td>363.9m</td>\n",
       "      <td>6.7m</td>\n",
       "      <td>915</td>\n",
       "      <td>0.010</td>\n",
       "      <td>3.5m</td>\n",
       "      <td>6.1b</td>\n",
       "      <td>United States</td>\n",
       "    </tr>\n",
       "    <tr>\n",
       "      <th>3</th>\n",
       "      <td>4</td>\n",
       "      <td>\\nselenagomez</td>\n",
       "      <td>93</td>\n",
       "      <td>348.8m</td>\n",
       "      <td>6.1m</td>\n",
       "      <td>1.9k</td>\n",
       "      <td>0.005</td>\n",
       "      <td>1.7m</td>\n",
       "      <td>11.4b</td>\n",
       "      <td>United States</td>\n",
       "    </tr>\n",
       "    <tr>\n",
       "      <th>4</th>\n",
       "      <td>5</td>\n",
       "      <td>\\ntherock</td>\n",
       "      <td>91</td>\n",
       "      <td>339.4m</td>\n",
       "      <td>1.8m</td>\n",
       "      <td>6.8k</td>\n",
       "      <td>0.003</td>\n",
       "      <td>932.0k</td>\n",
       "      <td>12.6b</td>\n",
       "      <td>United States</td>\n",
       "    </tr>\n",
       "    <tr>\n",
       "      <th>...</th>\n",
       "      <td>...</td>\n",
       "      <td>...</td>\n",
       "      <td>...</td>\n",
       "      <td>...</td>\n",
       "      <td>...</td>\n",
       "      <td>...</td>\n",
       "      <td>...</td>\n",
       "      <td>...</td>\n",
       "      <td>...</td>\n",
       "      <td>...</td>\n",
       "    </tr>\n",
       "    <tr>\n",
       "      <th>195</th>\n",
       "      <td>196</td>\n",
       "      <td>\\nkhabib_nurmagomedov</td>\n",
       "      <td>63</td>\n",
       "      <td>33.6m</td>\n",
       "      <td>680.6k</td>\n",
       "      <td>4.6k</td>\n",
       "      <td>0.009</td>\n",
       "      <td>305.7k</td>\n",
       "      <td>3.1b</td>\n",
       "      <td>Russia</td>\n",
       "    </tr>\n",
       "    <tr>\n",
       "      <th>196</th>\n",
       "      <td>197</td>\n",
       "      <td>\\ndanbilzerian</td>\n",
       "      <td>84</td>\n",
       "      <td>33.6m</td>\n",
       "      <td>2.2m</td>\n",
       "      <td>1.4k</td>\n",
       "      <td>0.064</td>\n",
       "      <td>2.1m</td>\n",
       "      <td>3.0b</td>\n",
       "      <td>Canada</td>\n",
       "    </tr>\n",
       "    <tr>\n",
       "      <th>197</th>\n",
       "      <td>198</td>\n",
       "      <td>\\nraisa6690</td>\n",
       "      <td>80</td>\n",
       "      <td>33.6m</td>\n",
       "      <td>227.8k</td>\n",
       "      <td>4.2k</td>\n",
       "      <td>0.003</td>\n",
       "      <td>103.2k</td>\n",
       "      <td>955.9m</td>\n",
       "      <td>Indonesia</td>\n",
       "    </tr>\n",
       "    <tr>\n",
       "      <th>198</th>\n",
       "      <td>199</td>\n",
       "      <td>\\nluansantana</td>\n",
       "      <td>79</td>\n",
       "      <td>33.5m</td>\n",
       "      <td>193.3k</td>\n",
       "      <td>865</td>\n",
       "      <td>0.003</td>\n",
       "      <td>82.6k</td>\n",
       "      <td>167.2m</td>\n",
       "      <td>Brazil</td>\n",
       "    </tr>\n",
       "    <tr>\n",
       "      <th>199</th>\n",
       "      <td>200</td>\n",
       "      <td>\\nnancyajram</td>\n",
       "      <td>81</td>\n",
       "      <td>33.4m</td>\n",
       "      <td>382.5k</td>\n",
       "      <td>3.8k</td>\n",
       "      <td>0.004</td>\n",
       "      <td>128.2k</td>\n",
       "      <td>1.5b</td>\n",
       "      <td>France</td>\n",
       "    </tr>\n",
       "  </tbody>\n",
       "</table>\n",
       "<p>200 rows × 10 columns</p>\n",
       "</div>"
      ],
      "text/plain": [
       "     Rank           Channel Info  Influence Score Followers Avg. Likes Posts  \\\n",
       "0       1            \\ncristiano               92    485.2m       8.7m  3.4k   \n",
       "1       2            kyliejenner               91    370.7m       8.2m  7.0k   \n",
       "2       3             \\nleomessi               90    363.9m       6.7m   915   \n",
       "3       4          \\nselenagomez               93    348.8m       6.1m  1.9k   \n",
       "4       5              \\ntherock               91    339.4m       1.8m  6.8k   \n",
       "..    ...                    ...              ...       ...        ...   ...   \n",
       "195   196  \\nkhabib_nurmagomedov               63     33.6m     680.6k  4.6k   \n",
       "196   197         \\ndanbilzerian               84     33.6m       2.2m  1.4k   \n",
       "197   198            \\nraisa6690               80     33.6m     227.8k  4.2k   \n",
       "198   199          \\nluansantana               79     33.5m     193.3k   865   \n",
       "199   200           \\nnancyajram               81     33.4m     382.5k  3.8k   \n",
       "\n",
       "     60-Day Eng Rate New Post Avg. Likes Total Likes Country Or Region  \n",
       "0              0.013                6.3m       29.1b             Spain  \n",
       "1              0.014                5.0m       57.4b     United States  \n",
       "2              0.010                3.5m        6.1b     United States  \n",
       "3              0.005                1.7m       11.4b     United States  \n",
       "4              0.003              932.0k       12.6b     United States  \n",
       "..               ...                 ...         ...               ...  \n",
       "195            0.009              305.7k        3.1b            Russia  \n",
       "196            0.064                2.1m        3.0b            Canada  \n",
       "197            0.003              103.2k      955.9m         Indonesia  \n",
       "198            0.003               82.6k      167.2m            Brazil  \n",
       "199            0.004              128.2k        1.5b            France  \n",
       "\n",
       "[200 rows x 10 columns]"
      ]
     },
     "execution_count": 10,
     "metadata": {},
     "output_type": "execute_result"
    }
   ],
   "source": [
    "df"
   ]
  },
  {
   "cell_type": "code",
   "execution_count": 11,
   "id": "40707bfd-f1f1-4ddf-882e-4f8e80290ba6",
   "metadata": {},
   "outputs": [
    {
     "data": {
      "text/plain": [
       "Rank                   0\n",
       "Channel Info           0\n",
       "Influence Score        0\n",
       "Followers              0\n",
       "Avg. Likes             0\n",
       "Posts                  0\n",
       "60-Day Eng Rate        0\n",
       "New Post Avg. Likes    0\n",
       "Total Likes            0\n",
       "Country Or Region      0\n",
       "dtype: int64"
      ]
     },
     "execution_count": 11,
     "metadata": {},
     "output_type": "execute_result"
    }
   ],
   "source": [
    "df.isnull().sum()"
   ]
  },
  {
   "cell_type": "code",
   "execution_count": 12,
   "id": "d7c8012b-facd-4280-b27f-6140675bbb86",
   "metadata": {},
   "outputs": [
    {
     "data": {
      "text/plain": [
       "Index(['Rank', 'Channel Info', 'Influence Score', 'Followers', 'Avg. Likes',\n",
       "       'Posts', '60-Day Eng Rate', 'New Post Avg. Likes', 'Total Likes',\n",
       "       'Country Or Region'],\n",
       "      dtype='object')"
      ]
     },
     "execution_count": 12,
     "metadata": {},
     "output_type": "execute_result"
    }
   ],
   "source": [
    "df.columns"
   ]
  },
  {
   "cell_type": "code",
   "execution_count": 13,
   "id": "1e2a734b-ae73-41e7-9c2a-ef33207291c2",
   "metadata": {},
   "outputs": [],
   "source": [
    "#Convert string like k, m and b into numeric\n",
    "\n",
    "df[\"Followers\"] = df[\"Followers\"].replace({\"k\": \"1e3\", \"m\": \"1e6\"}, regex= True).map(df.eval)\n",
    "df[\"Avg. Likes\"] = df[\"Avg. Likes\"].replace({\"k\": \"1e3\", \"m\": \"1e6\"}, regex= True).map(df.eval)\n",
    "df[\"Posts\"] = df[\"Posts\"].replace({\"k\": \"1e3\", \"m\": \"1e6\"}, regex= True).map(df.eval)\n",
    "df[\"New Post Avg. Likes\"] = df[\"New Post Avg. Likes\"].replace({\"k\": \"1e3\", \"m\": \"1e6\"}, regex= True).map(df.eval)\n",
    "df[\"Total Likes\"] = df[\"Total Likes\"].replace({\"m\": \"1e6\", \"b\": \"1e9\"}, regex= True).map(df.eval)"
   ]
  },
  {
   "cell_type": "code",
   "execution_count": 14,
   "id": "143bd80d-9010-413d-bea6-47f9a06aa4c5",
   "metadata": {},
   "outputs": [
    {
     "data": {
      "text/html": [
       "<div>\n",
       "<style scoped>\n",
       "    .dataframe tbody tr th:only-of-type {\n",
       "        vertical-align: middle;\n",
       "    }\n",
       "\n",
       "    .dataframe tbody tr th {\n",
       "        vertical-align: top;\n",
       "    }\n",
       "\n",
       "    .dataframe thead th {\n",
       "        text-align: right;\n",
       "    }\n",
       "</style>\n",
       "<table border=\"1\" class=\"dataframe\">\n",
       "  <thead>\n",
       "    <tr style=\"text-align: right;\">\n",
       "      <th></th>\n",
       "      <th>Rank</th>\n",
       "      <th>Channel Info</th>\n",
       "      <th>Influence Score</th>\n",
       "      <th>Followers</th>\n",
       "      <th>Avg. Likes</th>\n",
       "      <th>Posts</th>\n",
       "      <th>60-Day Eng Rate</th>\n",
       "      <th>New Post Avg. Likes</th>\n",
       "      <th>Total Likes</th>\n",
       "      <th>Country Or Region</th>\n",
       "    </tr>\n",
       "  </thead>\n",
       "  <tbody>\n",
       "    <tr>\n",
       "      <th>0</th>\n",
       "      <td>1</td>\n",
       "      <td>\\ncristiano</td>\n",
       "      <td>92</td>\n",
       "      <td>485210000.0</td>\n",
       "      <td>8710000.0</td>\n",
       "      <td>3410.0</td>\n",
       "      <td>0.013</td>\n",
       "      <td>6310000.0</td>\n",
       "      <td>2.911000e+10</td>\n",
       "      <td>Spain</td>\n",
       "    </tr>\n",
       "    <tr>\n",
       "      <th>1</th>\n",
       "      <td>2</td>\n",
       "      <td>kyliejenner</td>\n",
       "      <td>91</td>\n",
       "      <td>370710000.0</td>\n",
       "      <td>8210000.0</td>\n",
       "      <td>7010.0</td>\n",
       "      <td>0.014</td>\n",
       "      <td>5010000.0</td>\n",
       "      <td>5.741000e+10</td>\n",
       "      <td>United States</td>\n",
       "    </tr>\n",
       "    <tr>\n",
       "      <th>2</th>\n",
       "      <td>3</td>\n",
       "      <td>\\nleomessi</td>\n",
       "      <td>90</td>\n",
       "      <td>363910000.0</td>\n",
       "      <td>6710000.0</td>\n",
       "      <td>915.0</td>\n",
       "      <td>0.010</td>\n",
       "      <td>3510000.0</td>\n",
       "      <td>6.110000e+09</td>\n",
       "      <td>United States</td>\n",
       "    </tr>\n",
       "    <tr>\n",
       "      <th>3</th>\n",
       "      <td>4</td>\n",
       "      <td>\\nselenagomez</td>\n",
       "      <td>93</td>\n",
       "      <td>348810000.0</td>\n",
       "      <td>6110000.0</td>\n",
       "      <td>1910.0</td>\n",
       "      <td>0.005</td>\n",
       "      <td>1710000.0</td>\n",
       "      <td>1.141000e+10</td>\n",
       "      <td>United States</td>\n",
       "    </tr>\n",
       "    <tr>\n",
       "      <th>4</th>\n",
       "      <td>5</td>\n",
       "      <td>\\ntherock</td>\n",
       "      <td>91</td>\n",
       "      <td>339410000.0</td>\n",
       "      <td>1810000.0</td>\n",
       "      <td>6810.0</td>\n",
       "      <td>0.003</td>\n",
       "      <td>932010.0</td>\n",
       "      <td>1.261000e+10</td>\n",
       "      <td>United States</td>\n",
       "    </tr>\n",
       "    <tr>\n",
       "      <th>...</th>\n",
       "      <td>...</td>\n",
       "      <td>...</td>\n",
       "      <td>...</td>\n",
       "      <td>...</td>\n",
       "      <td>...</td>\n",
       "      <td>...</td>\n",
       "      <td>...</td>\n",
       "      <td>...</td>\n",
       "      <td>...</td>\n",
       "      <td>...</td>\n",
       "    </tr>\n",
       "    <tr>\n",
       "      <th>195</th>\n",
       "      <td>196</td>\n",
       "      <td>\\nkhabib_nurmagomedov</td>\n",
       "      <td>63</td>\n",
       "      <td>33610000.0</td>\n",
       "      <td>680610.0</td>\n",
       "      <td>4610.0</td>\n",
       "      <td>0.009</td>\n",
       "      <td>305710.0</td>\n",
       "      <td>3.110000e+09</td>\n",
       "      <td>Russia</td>\n",
       "    </tr>\n",
       "    <tr>\n",
       "      <th>196</th>\n",
       "      <td>197</td>\n",
       "      <td>\\ndanbilzerian</td>\n",
       "      <td>84</td>\n",
       "      <td>33610000.0</td>\n",
       "      <td>2210000.0</td>\n",
       "      <td>1410.0</td>\n",
       "      <td>0.064</td>\n",
       "      <td>2110000.0</td>\n",
       "      <td>3.010000e+09</td>\n",
       "      <td>Canada</td>\n",
       "    </tr>\n",
       "    <tr>\n",
       "      <th>197</th>\n",
       "      <td>198</td>\n",
       "      <td>\\nraisa6690</td>\n",
       "      <td>80</td>\n",
       "      <td>33610000.0</td>\n",
       "      <td>227810.0</td>\n",
       "      <td>4210.0</td>\n",
       "      <td>0.003</td>\n",
       "      <td>103210.0</td>\n",
       "      <td>9.559100e+08</td>\n",
       "      <td>Indonesia</td>\n",
       "    </tr>\n",
       "    <tr>\n",
       "      <th>198</th>\n",
       "      <td>199</td>\n",
       "      <td>\\nluansantana</td>\n",
       "      <td>79</td>\n",
       "      <td>33510000.0</td>\n",
       "      <td>193310.0</td>\n",
       "      <td>865.0</td>\n",
       "      <td>0.003</td>\n",
       "      <td>82610.0</td>\n",
       "      <td>1.672100e+08</td>\n",
       "      <td>Brazil</td>\n",
       "    </tr>\n",
       "    <tr>\n",
       "      <th>199</th>\n",
       "      <td>200</td>\n",
       "      <td>\\nnancyajram</td>\n",
       "      <td>81</td>\n",
       "      <td>33410000.0</td>\n",
       "      <td>382510.0</td>\n",
       "      <td>3810.0</td>\n",
       "      <td>0.004</td>\n",
       "      <td>128210.0</td>\n",
       "      <td>1.510000e+09</td>\n",
       "      <td>France</td>\n",
       "    </tr>\n",
       "  </tbody>\n",
       "</table>\n",
       "<p>200 rows × 10 columns</p>\n",
       "</div>"
      ],
      "text/plain": [
       "     Rank           Channel Info  Influence Score    Followers  Avg. Likes  \\\n",
       "0       1            \\ncristiano               92  485210000.0   8710000.0   \n",
       "1       2            kyliejenner               91  370710000.0   8210000.0   \n",
       "2       3             \\nleomessi               90  363910000.0   6710000.0   \n",
       "3       4          \\nselenagomez               93  348810000.0   6110000.0   \n",
       "4       5              \\ntherock               91  339410000.0   1810000.0   \n",
       "..    ...                    ...              ...          ...         ...   \n",
       "195   196  \\nkhabib_nurmagomedov               63   33610000.0    680610.0   \n",
       "196   197         \\ndanbilzerian               84   33610000.0   2210000.0   \n",
       "197   198            \\nraisa6690               80   33610000.0    227810.0   \n",
       "198   199          \\nluansantana               79   33510000.0    193310.0   \n",
       "199   200           \\nnancyajram               81   33410000.0    382510.0   \n",
       "\n",
       "      Posts  60-Day Eng Rate  New Post Avg. Likes   Total Likes  \\\n",
       "0    3410.0            0.013            6310000.0  2.911000e+10   \n",
       "1    7010.0            0.014            5010000.0  5.741000e+10   \n",
       "2     915.0            0.010            3510000.0  6.110000e+09   \n",
       "3    1910.0            0.005            1710000.0  1.141000e+10   \n",
       "4    6810.0            0.003             932010.0  1.261000e+10   \n",
       "..      ...              ...                  ...           ...   \n",
       "195  4610.0            0.009             305710.0  3.110000e+09   \n",
       "196  1410.0            0.064            2110000.0  3.010000e+09   \n",
       "197  4210.0            0.003             103210.0  9.559100e+08   \n",
       "198   865.0            0.003              82610.0  1.672100e+08   \n",
       "199  3810.0            0.004             128210.0  1.510000e+09   \n",
       "\n",
       "    Country Or Region  \n",
       "0               Spain  \n",
       "1       United States  \n",
       "2       United States  \n",
       "3       United States  \n",
       "4       United States  \n",
       "..                ...  \n",
       "195            Russia  \n",
       "196            Canada  \n",
       "197         Indonesia  \n",
       "198            Brazil  \n",
       "199            France  \n",
       "\n",
       "[200 rows x 10 columns]"
      ]
     },
     "execution_count": 14,
     "metadata": {},
     "output_type": "execute_result"
    }
   ],
   "source": [
    "df"
   ]
  },
  {
   "cell_type": "code",
   "execution_count": 15,
   "id": "4aa4e2c3-8773-4d7d-9804-aacb763ebbd1",
   "metadata": {},
   "outputs": [
    {
     "data": {
      "text/plain": [
       "Index(['Rank', 'Channel Info', 'Influence Score', 'Followers', 'Avg. Likes',\n",
       "       'Posts', '60-Day Eng Rate', 'New Post Avg. Likes', 'Total Likes',\n",
       "       'Country Or Region'],\n",
       "      dtype='object')"
      ]
     },
     "execution_count": 15,
     "metadata": {},
     "output_type": "execute_result"
    }
   ],
   "source": [
    "df.columns"
   ]
  },
  {
   "cell_type": "code",
   "execution_count": 16,
   "id": "4405365f-1e7c-4851-ac59-11c8b88e181f",
   "metadata": {},
   "outputs": [],
   "source": [
    "numeric_columns = ['Influence Score', 'Followers', 'Avg. Likes',\n",
    "       'Posts', '60-Day Eng Rate', 'New Post Avg. Likes', 'Total Likes']"
   ]
  },
  {
   "cell_type": "code",
   "execution_count": 17,
   "id": "97f00c97-2dfa-4d0d-9616-060d1f8177c7",
   "metadata": {},
   "outputs": [
    {
     "data": {
      "text/plain": [
       "(200, 10)"
      ]
     },
     "execution_count": 17,
     "metadata": {},
     "output_type": "execute_result"
    }
   ],
   "source": [
    "df.shape"
   ]
  },
  {
   "cell_type": "code",
   "execution_count": 18,
   "id": "2b85227d-5044-4a02-b3de-ce0acaca0b63",
   "metadata": {},
   "outputs": [],
   "source": [
    "df[numeric_columns] = df[numeric_columns].apply(pd.to_numeric, errors= \"coerce\")\n",
    "df = df.dropna(subset= numeric_columns)"
   ]
  },
  {
   "cell_type": "code",
   "execution_count": 19,
   "id": "d234750a-31ea-4eff-9886-2b3e3f32457b",
   "metadata": {},
   "outputs": [
    {
     "data": {
      "text/plain": [
       "(200, 10)"
      ]
     },
     "execution_count": 19,
     "metadata": {},
     "output_type": "execute_result"
    }
   ],
   "source": [
    "df.shape"
   ]
  },
  {
   "cell_type": "markdown",
   "id": "6801c86a-862a-4ddf-ac7c-5f9dfba38754",
   "metadata": {},
   "source": [
    "## Question 1"
   ]
  },
  {
   "cell_type": "code",
   "execution_count": 21,
   "id": "f5616e43-f661-45b8-a940-81016de8cdaa",
   "metadata": {},
   "outputs": [],
   "source": [
    "corr = df[numeric_columns].corr().abs()"
   ]
  },
  {
   "cell_type": "code",
   "execution_count": 22,
   "id": "231923f1-9b12-4f9b-bc1f-7b286faed9c3",
   "metadata": {},
   "outputs": [
    {
     "data": {
      "text/html": [
       "<div>\n",
       "<style scoped>\n",
       "    .dataframe tbody tr th:only-of-type {\n",
       "        vertical-align: middle;\n",
       "    }\n",
       "\n",
       "    .dataframe tbody tr th {\n",
       "        vertical-align: top;\n",
       "    }\n",
       "\n",
       "    .dataframe thead th {\n",
       "        text-align: right;\n",
       "    }\n",
       "</style>\n",
       "<table border=\"1\" class=\"dataframe\">\n",
       "  <thead>\n",
       "    <tr style=\"text-align: right;\">\n",
       "      <th></th>\n",
       "      <th>Influence Score</th>\n",
       "      <th>Followers</th>\n",
       "      <th>Avg. Likes</th>\n",
       "      <th>Posts</th>\n",
       "      <th>60-Day Eng Rate</th>\n",
       "      <th>New Post Avg. Likes</th>\n",
       "      <th>Total Likes</th>\n",
       "    </tr>\n",
       "  </thead>\n",
       "  <tbody>\n",
       "    <tr>\n",
       "      <th>Influence Score</th>\n",
       "      <td>1.000000</td>\n",
       "      <td>0.365428</td>\n",
       "      <td>0.048554</td>\n",
       "      <td>0.168379</td>\n",
       "      <td>0.072460</td>\n",
       "      <td>0.040198</td>\n",
       "      <td>0.235005</td>\n",
       "    </tr>\n",
       "    <tr>\n",
       "      <th>Followers</th>\n",
       "      <td>0.365428</td>\n",
       "      <td>1.000000</td>\n",
       "      <td>0.347055</td>\n",
       "      <td>0.069244</td>\n",
       "      <td>0.107439</td>\n",
       "      <td>0.261150</td>\n",
       "      <td>0.667549</td>\n",
       "    </tr>\n",
       "    <tr>\n",
       "      <th>Avg. Likes</th>\n",
       "      <td>0.048554</td>\n",
       "      <td>0.347055</td>\n",
       "      <td>1.000000</td>\n",
       "      <td>0.349665</td>\n",
       "      <td>0.789242</td>\n",
       "      <td>0.892839</td>\n",
       "      <td>0.361439</td>\n",
       "    </tr>\n",
       "    <tr>\n",
       "      <th>Posts</th>\n",
       "      <td>0.168379</td>\n",
       "      <td>0.069244</td>\n",
       "      <td>0.349665</td>\n",
       "      <td>1.000000</td>\n",
       "      <td>0.334305</td>\n",
       "      <td>0.285704</td>\n",
       "      <td>0.232393</td>\n",
       "    </tr>\n",
       "    <tr>\n",
       "      <th>60-Day Eng Rate</th>\n",
       "      <td>0.072460</td>\n",
       "      <td>0.107439</td>\n",
       "      <td>0.789242</td>\n",
       "      <td>0.334305</td>\n",
       "      <td>1.000000</td>\n",
       "      <td>0.866170</td>\n",
       "      <td>0.001546</td>\n",
       "    </tr>\n",
       "    <tr>\n",
       "      <th>New Post Avg. Likes</th>\n",
       "      <td>0.040198</td>\n",
       "      <td>0.261150</td>\n",
       "      <td>0.892839</td>\n",
       "      <td>0.285704</td>\n",
       "      <td>0.866170</td>\n",
       "      <td>1.000000</td>\n",
       "      <td>0.351571</td>\n",
       "    </tr>\n",
       "    <tr>\n",
       "      <th>Total Likes</th>\n",
       "      <td>0.235005</td>\n",
       "      <td>0.667549</td>\n",
       "      <td>0.361439</td>\n",
       "      <td>0.232393</td>\n",
       "      <td>0.001546</td>\n",
       "      <td>0.351571</td>\n",
       "      <td>1.000000</td>\n",
       "    </tr>\n",
       "  </tbody>\n",
       "</table>\n",
       "</div>"
      ],
      "text/plain": [
       "                     Influence Score  Followers  Avg. Likes     Posts  \\\n",
       "Influence Score             1.000000   0.365428    0.048554  0.168379   \n",
       "Followers                   0.365428   1.000000    0.347055  0.069244   \n",
       "Avg. Likes                  0.048554   0.347055    1.000000  0.349665   \n",
       "Posts                       0.168379   0.069244    0.349665  1.000000   \n",
       "60-Day Eng Rate             0.072460   0.107439    0.789242  0.334305   \n",
       "New Post Avg. Likes         0.040198   0.261150    0.892839  0.285704   \n",
       "Total Likes                 0.235005   0.667549    0.361439  0.232393   \n",
       "\n",
       "                     60-Day Eng Rate  New Post Avg. Likes  Total Likes  \n",
       "Influence Score             0.072460             0.040198     0.235005  \n",
       "Followers                   0.107439             0.261150     0.667549  \n",
       "Avg. Likes                  0.789242             0.892839     0.361439  \n",
       "Posts                       0.334305             0.285704     0.232393  \n",
       "60-Day Eng Rate             1.000000             0.866170     0.001546  \n",
       "New Post Avg. Likes         0.866170             1.000000     0.351571  \n",
       "Total Likes                 0.001546             0.351571     1.000000  "
      ]
     },
     "execution_count": 22,
     "metadata": {},
     "output_type": "execute_result"
    }
   ],
   "source": [
    "corr"
   ]
  },
  {
   "cell_type": "code",
   "execution_count": 23,
   "id": "4f90570b-72a9-4ddb-95d6-dd8b061ac782",
   "metadata": {},
   "outputs": [
    {
     "data": {
      "text/plain": [
       "<Axes: >"
      ]
     },
     "execution_count": 23,
     "metadata": {},
     "output_type": "execute_result"
    },
    {
     "data": {
      "image/png": "[encoded data removed]",
      "text/plain": [
       "<Figure size 640x480 with 2 Axes>"
      ]
     },
     "metadata": {},
     "output_type": "display_data"
    }
   ],
   "source": [
    "sns.heatmap(corr, annot= True)"
   ]
  },
  {
   "cell_type": "markdown",
   "id": "e2cfb255-57bd-4f6b-b81f-297a2e7148e0",
   "metadata": {},
   "source": [
    "### From the heatmap, Average likes and New post average likes are highly correlated with 0.89 correlation"
   ]
  },
  {
   "cell_type": "markdown",
   "id": "e88c77ca-e777-4aee-a98e-35af26ed73d1",
   "metadata": {},
   "source": [
    "## Question 2"
   ]
  },
  {
   "cell_type": "code",
   "execution_count": 26,
   "id": "08f687f1-dfd2-4d88-920e-a3666524f785",
   "metadata": {},
   "outputs": [
    {
     "data": {
      "text/plain": [
       "Index(['Rank', 'Channel Info', 'Influence Score', 'Followers', 'Avg. Likes',\n",
       "       'Posts', '60-Day Eng Rate', 'New Post Avg. Likes', 'Total Likes',\n",
       "       'Country Or Region'],\n",
       "      dtype='object')"
      ]
     },
     "execution_count": 26,
     "metadata": {},
     "output_type": "execute_result"
    }
   ],
   "source": [
    "df.columns"
   ]
  },
  {
   "cell_type": "code",
   "execution_count": 27,
   "id": "e840effa-a68c-4bf3-a0a5-f4f7bdd5ac07",
   "metadata": {},
   "outputs": [
    {
     "data": {
      "image/png": "[encoded data removed]",
      "text/plain": [
       "<Figure size 640x480 with 1 Axes>"
      ]
     },
     "metadata": {},
     "output_type": "display_data"
    }
   ],
   "source": [
    "#Influence score\n",
    "plt.hist(df[\"Influence Score\"])\n",
    "plt.title(\"Frequency distribution of Influence Score\")\n",
    "plt.show()"
   ]
  },
  {
   "cell_type": "code",
   "execution_count": 28,
   "id": "1bec6a82-6997-4d0f-ba09-7b591f121e81",
   "metadata": {},
   "outputs": [
    {
     "data": {
      "image/png": "[encoded data removed]",
      "text/plain": [
       "<Figure size 640x480 with 1 Axes>"
      ]
     },
     "metadata": {},
     "output_type": "display_data"
    }
   ],
   "source": [
    "#Followers\n",
    "plt.hist(df[\"Followers\"])\n",
    "plt.title(\"Frequency distribution of Followers\")\n",
    "plt.show()"
   ]
  },
  {
   "cell_type": "code",
   "execution_count": 29,
   "id": "fb67ee57-07d5-4be3-bff1-dd8349d25848",
   "metadata": {},
   "outputs": [
    {
     "data": {
      "image/png": "[encoded data removed]",
      "text/plain": [
       "<Figure size 640x480 with 1 Axes>"
      ]
     },
     "metadata": {},
     "output_type": "display_data"
    }
   ],
   "source": [
    "#Posts\n",
    "plt.hist(df[\"Posts\"])\n",
    "plt.title(\"Frequency distribution of Posts\")\n",
    "plt.show()"
   ]
  },
  {
   "cell_type": "markdown",
   "id": "92f09da5-7cc7-4820-b4cb-7ea232031a64",
   "metadata": {},
   "source": [
    "## Question 3"
   ]
  },
  {
   "cell_type": "code",
   "execution_count": 31,
   "id": "c4015ab5-e25a-4a1f-b7d5-631f3ec1a69e",
   "metadata": {},
   "outputs": [
    {
     "data": {
      "image/png": "[encoded data removed]",
      "text/plain": [
       "<Figure size 1400x600 with 1 Axes>"
      ]
     },
     "metadata": {},
     "output_type": "display_data"
    }
   ],
   "source": [
    "#Highest number of influencers by country\n",
    "df[\"Country Or Region\"].value_counts().plot.bar(figsize= (14, 6))\n",
    "plt.title(\"Influencers by Country\")\n",
    "plt.xlabel(\"\")\n",
    "plt.show()"
   ]
  },
  {
   "cell_type": "markdown",
   "id": "94f577f7-06f8-4af4-a22b-1670da49bd63",
   "metadata": {},
   "source": [
    "## Question 4"
   ]
  },
  {
   "cell_type": "code",
   "execution_count": 33,
   "id": "b5302760-3312-4250-bf11-a6a034ca48af",
   "metadata": {},
   "outputs": [
    {
     "data": {
      "text/plain": [
       "Index(['Rank', 'Channel Info', 'Influence Score', 'Followers', 'Avg. Likes',\n",
       "       'Posts', '60-Day Eng Rate', 'New Post Avg. Likes', 'Total Likes',\n",
       "       'Country Or Region'],\n",
       "      dtype='object')"
      ]
     },
     "execution_count": 33,
     "metadata": {},
     "output_type": "execute_result"
    }
   ],
   "source": [
    "df.columns"
   ]
  },
  {
   "cell_type": "code",
   "execution_count": 34,
   "id": "1af137ae-46a2-49b3-be19-1c4ad62a8893",
   "metadata": {},
   "outputs": [
    {
     "data": {
      "text/html": [
       "<div>\n",
       "<style scoped>\n",
       "    .dataframe tbody tr th:only-of-type {\n",
       "        vertical-align: middle;\n",
       "    }\n",
       "\n",
       "    .dataframe tbody tr th {\n",
       "        vertical-align: top;\n",
       "    }\n",
       "\n",
       "    .dataframe thead th {\n",
       "        text-align: right;\n",
       "    }\n",
       "</style>\n",
       "<table border=\"1\" class=\"dataframe\">\n",
       "  <thead>\n",
       "    <tr style=\"text-align: right;\">\n",
       "      <th></th>\n",
       "      <th>Channel Info</th>\n",
       "      <th>Followers</th>\n",
       "    </tr>\n",
       "  </thead>\n",
       "  <tbody>\n",
       "    <tr>\n",
       "      <th>0</th>\n",
       "      <td>\\ncristiano</td>\n",
       "      <td>485210000.0</td>\n",
       "    </tr>\n",
       "    <tr>\n",
       "      <th>1</th>\n",
       "      <td>kyliejenner</td>\n",
       "      <td>370710000.0</td>\n",
       "    </tr>\n",
       "    <tr>\n",
       "      <th>2</th>\n",
       "      <td>\\nleomessi</td>\n",
       "      <td>363910000.0</td>\n",
       "    </tr>\n",
       "    <tr>\n",
       "      <th>3</th>\n",
       "      <td>\\nselenagomez</td>\n",
       "      <td>348810000.0</td>\n",
       "    </tr>\n",
       "    <tr>\n",
       "      <th>4</th>\n",
       "      <td>\\ntherock</td>\n",
       "      <td>339410000.0</td>\n",
       "    </tr>\n",
       "    <tr>\n",
       "      <th>5</th>\n",
       "      <td>\\narianagrande</td>\n",
       "      <td>333010000.0</td>\n",
       "    </tr>\n",
       "    <tr>\n",
       "      <th>6</th>\n",
       "      <td>\\nkimkardashian</td>\n",
       "      <td>330710000.0</td>\n",
       "    </tr>\n",
       "    <tr>\n",
       "      <th>7</th>\n",
       "      <td>\\nbeyonce</td>\n",
       "      <td>276110000.0</td>\n",
       "    </tr>\n",
       "    <tr>\n",
       "      <th>8</th>\n",
       "      <td>\\nkhloekardashian</td>\n",
       "      <td>273910000.0</td>\n",
       "    </tr>\n",
       "    <tr>\n",
       "      <th>9</th>\n",
       "      <td>\\njustinbieber</td>\n",
       "      <td>260010000.0</td>\n",
       "    </tr>\n",
       "    <tr>\n",
       "      <th>10</th>\n",
       "      <td>\\nkendalljenner</td>\n",
       "      <td>258910000.0</td>\n",
       "    </tr>\n",
       "  </tbody>\n",
       "</table>\n",
       "</div>"
      ],
      "text/plain": [
       "         Channel Info    Followers\n",
       "0         \\ncristiano  485210000.0\n",
       "1         kyliejenner  370710000.0\n",
       "2          \\nleomessi  363910000.0\n",
       "3       \\nselenagomez  348810000.0\n",
       "4           \\ntherock  339410000.0\n",
       "5      \\narianagrande  333010000.0\n",
       "6     \\nkimkardashian  330710000.0\n",
       "7           \\nbeyonce  276110000.0\n",
       "8   \\nkhloekardashian  273910000.0\n",
       "9      \\njustinbieber  260010000.0\n",
       "10    \\nkendalljenner  258910000.0"
      ]
     },
     "execution_count": 34,
     "metadata": {},
     "output_type": "execute_result"
    }
   ],
   "source": [
    "#Top 10 Influencers by followers\n",
    "q4 = df[['Channel Info', 'Followers']].sort_values(by= ['Followers'], ascending= False)\n",
    "q4[:11]"
   ]
  },
  {
   "cell_type": "code",
   "execution_count": 35,
   "id": "35a14436-3231-43d7-9595-369235589494",
   "metadata": {},
   "outputs": [
    {
     "data": {
      "text/html": [
       "<div>\n",
       "<style scoped>\n",
       "    .dataframe tbody tr th:only-of-type {\n",
       "        vertical-align: middle;\n",
       "    }\n",
       "\n",
       "    .dataframe tbody tr th {\n",
       "        vertical-align: top;\n",
       "    }\n",
       "\n",
       "    .dataframe thead th {\n",
       "        text-align: right;\n",
       "    }\n",
       "</style>\n",
       "<table border=\"1\" class=\"dataframe\">\n",
       "  <thead>\n",
       "    <tr style=\"text-align: right;\">\n",
       "      <th></th>\n",
       "      <th>Channel Info</th>\n",
       "      <th>Avg. Likes</th>\n",
       "    </tr>\n",
       "  </thead>\n",
       "  <tbody>\n",
       "    <tr>\n",
       "      <th>96</th>\n",
       "      <td>\\nthv</td>\n",
       "      <td>15410000.0</td>\n",
       "    </tr>\n",
       "    <tr>\n",
       "      <th>131</th>\n",
       "      <td>\\nj.m</td>\n",
       "      <td>14410000.0</td>\n",
       "    </tr>\n",
       "    <tr>\n",
       "      <th>165</th>\n",
       "      <td>\\nrkive</td>\n",
       "      <td>10610000.0</td>\n",
       "    </tr>\n",
       "    <tr>\n",
       "      <th>0</th>\n",
       "      <td>\\ncristiano</td>\n",
       "      <td>8710000.0</td>\n",
       "    </tr>\n",
       "    <tr>\n",
       "      <th>32</th>\n",
       "      <td>\\nbillieeilish</td>\n",
       "      <td>8410000.0</td>\n",
       "    </tr>\n",
       "    <tr>\n",
       "      <th>1</th>\n",
       "      <td>kyliejenner</td>\n",
       "      <td>8210000.0</td>\n",
       "    </tr>\n",
       "    <tr>\n",
       "      <th>2</th>\n",
       "      <td>\\nleomessi</td>\n",
       "      <td>6710000.0</td>\n",
       "    </tr>\n",
       "    <tr>\n",
       "      <th>3</th>\n",
       "      <td>\\nselenagomez</td>\n",
       "      <td>6110000.0</td>\n",
       "    </tr>\n",
       "    <tr>\n",
       "      <th>38</th>\n",
       "      <td>\\nlalalalisa_m</td>\n",
       "      <td>6010000.0</td>\n",
       "    </tr>\n",
       "    <tr>\n",
       "      <th>22</th>\n",
       "      <td>\\nzendaya</td>\n",
       "      <td>5910000.0</td>\n",
       "    </tr>\n",
       "    <tr>\n",
       "      <th>10</th>\n",
       "      <td>\\nkendalljenner</td>\n",
       "      <td>5510000.0</td>\n",
       "    </tr>\n",
       "  </tbody>\n",
       "</table>\n",
       "</div>"
      ],
      "text/plain": [
       "        Channel Info  Avg. Likes\n",
       "96             \\nthv  15410000.0\n",
       "131            \\nj.m  14410000.0\n",
       "165          \\nrkive  10610000.0\n",
       "0        \\ncristiano   8710000.0\n",
       "32    \\nbillieeilish   8410000.0\n",
       "1        kyliejenner   8210000.0\n",
       "2         \\nleomessi   6710000.0\n",
       "3      \\nselenagomez   6110000.0\n",
       "38    \\nlalalalisa_m   6010000.0\n",
       "22         \\nzendaya   5910000.0\n",
       "10   \\nkendalljenner   5510000.0"
      ]
     },
     "execution_count": 35,
     "metadata": {},
     "output_type": "execute_result"
    }
   ],
   "source": [
    "#Top 10 Influencers by Average likes\n",
    "q4 = df[['Channel Info', 'Avg. Likes']].sort_values(by= ['Avg. Likes'], ascending= False)\n",
    "q4[:11]"
   ]
  },
  {
   "cell_type": "code",
   "execution_count": 36,
   "id": "c5374aec-57d6-4e9a-b390-adb447492213",
   "metadata": {},
   "outputs": [
    {
     "data": {
      "text/html": [
       "<div>\n",
       "<style scoped>\n",
       "    .dataframe tbody tr th:only-of-type {\n",
       "        vertical-align: middle;\n",
       "    }\n",
       "\n",
       "    .dataframe tbody tr th {\n",
       "        vertical-align: top;\n",
       "    }\n",
       "\n",
       "    .dataframe thead th {\n",
       "        text-align: right;\n",
       "    }\n",
       "</style>\n",
       "<table border=\"1\" class=\"dataframe\">\n",
       "  <thead>\n",
       "    <tr style=\"text-align: right;\">\n",
       "      <th></th>\n",
       "      <th>Channel Info</th>\n",
       "      <th>Total Likes</th>\n",
       "    </tr>\n",
       "  </thead>\n",
       "  <tbody>\n",
       "    <tr>\n",
       "      <th>1</th>\n",
       "      <td>kyliejenner</td>\n",
       "      <td>5.741000e+10</td>\n",
       "    </tr>\n",
       "    <tr>\n",
       "      <th>0</th>\n",
       "      <td>\\ncristiano</td>\n",
       "      <td>2.911000e+10</td>\n",
       "    </tr>\n",
       "    <tr>\n",
       "      <th>22</th>\n",
       "      <td>\\nzendaya</td>\n",
       "      <td>2.081000e+10</td>\n",
       "    </tr>\n",
       "    <tr>\n",
       "      <th>6</th>\n",
       "      <td>\\nkimkardashian</td>\n",
       "      <td>1.981000e+10</td>\n",
       "    </tr>\n",
       "    <tr>\n",
       "      <th>5</th>\n",
       "      <td>\\narianagrande</td>\n",
       "      <td>1.851000e+10</td>\n",
       "    </tr>\n",
       "    <tr>\n",
       "      <th>25</th>\n",
       "      <td>\\nbadgalriri</td>\n",
       "      <td>1.801000e+10</td>\n",
       "    </tr>\n",
       "    <tr>\n",
       "      <th>19</th>\n",
       "      <td>\\nneymarjr</td>\n",
       "      <td>1.441000e+10</td>\n",
       "    </tr>\n",
       "    <tr>\n",
       "      <th>9</th>\n",
       "      <td>\\njustinbieber</td>\n",
       "      <td>1.401000e+10</td>\n",
       "    </tr>\n",
       "    <tr>\n",
       "      <th>16</th>\n",
       "      <td>\\nnickiminaj</td>\n",
       "      <td>1.291000e+10</td>\n",
       "    </tr>\n",
       "    <tr>\n",
       "      <th>4</th>\n",
       "      <td>\\ntherock</td>\n",
       "      <td>1.261000e+10</td>\n",
       "    </tr>\n",
       "    <tr>\n",
       "      <th>31</th>\n",
       "      <td>\\nfcbarcelona</td>\n",
       "      <td>1.151000e+10</td>\n",
       "    </tr>\n",
       "  </tbody>\n",
       "</table>\n",
       "</div>"
      ],
      "text/plain": [
       "       Channel Info   Total Likes\n",
       "1       kyliejenner  5.741000e+10\n",
       "0       \\ncristiano  2.911000e+10\n",
       "22        \\nzendaya  2.081000e+10\n",
       "6   \\nkimkardashian  1.981000e+10\n",
       "5    \\narianagrande  1.851000e+10\n",
       "25     \\nbadgalriri  1.801000e+10\n",
       "19       \\nneymarjr  1.441000e+10\n",
       "9    \\njustinbieber  1.401000e+10\n",
       "16     \\nnickiminaj  1.291000e+10\n",
       "4         \\ntherock  1.261000e+10\n",
       "31    \\nfcbarcelona  1.151000e+10"
      ]
     },
     "execution_count": 36,
     "metadata": {},
     "output_type": "execute_result"
    }
   ],
   "source": [
    "#Top 10 Influencers by Total likes\n",
    "q4 = df[['Channel Info', 'Total Likes']].sort_values(by= ['Total Likes'], ascending= False)\n",
    "q4[:11]"
   ]
  },
  {
   "cell_type": "markdown",
   "id": "97169220-e7a7-4cf3-a1f6-0095cf0d3dd1",
   "metadata": {},
   "source": [
    "## Question 5"
   ]
  },
  {
   "cell_type": "code",
   "execution_count": 38,
   "id": "b9576de7-264c-4a9e-91d2-3244bb26d48b",
   "metadata": {},
   "outputs": [
    {
     "data": {
      "text/plain": [
       "Index(['Rank', 'Channel Info', 'Influence Score', 'Followers', 'Avg. Likes',\n",
       "       'Posts', '60-Day Eng Rate', 'New Post Avg. Likes', 'Total Likes',\n",
       "       'Country Or Region'],\n",
       "      dtype='object')"
      ]
     },
     "execution_count": 38,
     "metadata": {},
     "output_type": "execute_result"
    }
   ],
   "source": [
    "df.columns"
   ]
  },
  {
   "cell_type": "code",
   "execution_count": 76,
   "id": "88589aba-7df8-44cb-a464-f350887ca7fe",
   "metadata": {},
   "outputs": [
    {
     "data": {
      "image/png": "[encoded data removed]",
      "text/plain": [
       "<Figure size 1200x800 with 4 Axes>"
      ]
     },
     "metadata": {},
     "output_type": "display_data"
    }
   ],
   "source": [
    "plt.figure(figsize= (12, 8))\n",
    "\n",
    "#Followers and Total Likes\n",
    "plt.subplot(2, 2, 1)\n",
    "plt.scatter(df['Followers'], df['Total Likes'])\n",
    "plt.xlabel('Followers')\n",
    "plt.ylabel('Total Likes')\n",
    "plt.title(\"Followers by Total likes\")\n",
    "\n",
    "#Followers and Influence Score\n",
    "plt.subplot(2, 2, 2)\n",
    "plt.scatter(df['Followers'], df['Influence Score'])\n",
    "plt.xlabel('Followers')\n",
    "plt.ylabel('Influence Score')\n",
    "plt.title(\"Followers by Influence Score\")\n",
    "\n",
    "#Posts and Average likes\n",
    "plt.subplot(2, 2, 3)\n",
    "plt.scatter(df['Posts'], df['Avg. Likes'])\n",
    "plt.xlabel('Posts')\n",
    "plt.ylabel('Avg. Likes')\n",
    "plt.title(\"Posts by Avg. Likes\")\n",
    "\n",
    "#Posts and Influence Score\n",
    "plt.subplot(2, 2, 4)\n",
    "plt.scatter(df['Posts'], df['Influence Score'])\n",
    "plt.xlabel('Posts')\n",
    "plt.ylabel('Influence Score')\n",
    "plt.title(\"Posts by Influence Score\")\n",
    "\n",
    "plt.tight_layout()\n",
    "plt.show()"
   ]
  },
  {
   "cell_type": "code",
   "execution_count": null,
   "id": "b7540cdd-c171-46e0-a719-d51af45bba61",
   "metadata": {},
   "outputs": [],
   "source": []
  }
 ],
 "metadata": {
  "kernelspec": {
   "display_name": "Python [conda env:base] *",
   "language": "python",
   "name": "conda-base-py"
  },
  "language_info": {
   "codemirror_mode": {
    "name": "ipython",
    "version": 3
   },
   "file_extension": ".py",
   "mimetype": "text/x-python",
   "name": "python",
   "nbconvert_exporter": "python",
   "pygments_lexer": "ipython3",
   "version": "3.12.7"
  }
 },
 "nbformat": 4,
 "nbformat_minor": 5
}
